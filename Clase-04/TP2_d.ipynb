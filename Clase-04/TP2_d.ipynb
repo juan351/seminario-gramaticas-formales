{
 "cells": [
  {
   "cell_type": "code",
   "execution_count": 1,
   "id": "58dd2e71",
   "metadata": {},
   "outputs": [],
   "source": [
    "import nltk\n",
    "import re"
   ]
  },
  {
   "cell_type": "code",
   "execution_count": 2,
   "id": "6222ab86",
   "metadata": {},
   "outputs": [],
   "source": [
    "# Recursive Descent Parser\n",
    "\n",
    "def rd_parser(oracion, gramatica):                \n",
    "    oracion = oracion.lower()                     \n",
    "        \n",
    "    if oracion.endswith('.'):                       \n",
    "        oracion = re.sub('\\.',' ',oracion)         \n",
    "    else:                                           \n",
    "        oracion = oracion                         \n",
    "    lista_palabras = oracion.split()             \n",
    "    print(\"- Esta es la lista de palabras resultante: \", lista_palabras) \n",
    "      \n",
    "    gramatica = nltk.data.load(gramatica)          \n",
    "    rd_parser = nltk.RecursiveDescentParser(gramatica) \n",
    "    for arbol in rd_parser.parse(lista_palabras):    \n",
    "        print(\"- Árbol: \", arbol)\n",
    "        arbol.draw()"
   ]
  },
  {
   "cell_type": "code",
   "execution_count": 3,
   "id": "6b472102",
   "metadata": {},
   "outputs": [
    {
     "name": "stdout",
     "output_type": "stream",
     "text": [
      "- Esta es la lista de palabras resultante:  ['estos', 'amigos', 'manipulan', 'jugadores', 'con', 'sus', 'piezas']\n",
      "- Árbol:  (S\n",
      "  (SN_pl (Det estos) (N_pl amigos))\n",
      "  (SV_pl\n",
      "    (V_trans_pl manipulan)\n",
      "    (OD_pl_masc jugadores)\n",
      "    (SPrep (Prep con) (SNPrep (Pos sus) (SNPrepN piezas)))))\n",
      "- Árbol:  (S\n",
      "  (SN_pl (Det estos) (N_pl amigos))\n",
      "  (SV_pl\n",
      "    (V_trans_pl manipulan)\n",
      "    (OD\n",
      "      (OD_pl_masc jugadores)\n",
      "      (SPrep (Prep con) (SNPrep (Pos sus) (SNPrepN piezas))))))\n"
     ]
    }
   ],
   "source": [
    "oracion1 = 'Estos amigos manipulan jugadores con sus piezas.'                                   \n",
    "gramatica = 'gramaticas/gramatica.cfg'                    \n",
    "rd_parser(oracion1, gramatica)                         "
   ]
  },
  {
   "cell_type": "code",
   "execution_count": null,
   "id": "1864f279",
   "metadata": {},
   "outputs": [],
   "source": []
  }
 ],
 "metadata": {
  "kernelspec": {
   "display_name": "Python 3 (ipykernel)",
   "language": "python",
   "name": "python3"
  },
  "language_info": {
   "codemirror_mode": {
    "name": "ipython",
    "version": 3
   },
   "file_extension": ".py",
   "mimetype": "text/x-python",
   "name": "python",
   "nbconvert_exporter": "python",
   "pygments_lexer": "ipython3",
   "version": "3.8.10"
  }
 },
 "nbformat": 4,
 "nbformat_minor": 5
}
