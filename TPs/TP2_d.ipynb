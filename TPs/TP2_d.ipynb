{
 "cells": [
  {
   "cell_type": "code",
   "execution_count": 1,
   "id": "58dd2e71",
   "metadata": {},
   "outputs": [],
   "source": [
    "import nltk\n",
    "import re"
   ]
  },
  {
   "cell_type": "code",
   "execution_count": 8,
   "id": "6222ab86",
   "metadata": {},
   "outputs": [],
   "source": [
    "# Recursive Descent Parser\n",
    "\n",
    "def rd_parser(oracion, gramatica):                \n",
    "    oracion = oracion.lower()                     \n",
    "        \n",
    "    if oracion.endswith('.'):                       \n",
    "        oracion = re.sub('\\.',' ',oracion)         \n",
    "    else:                                           \n",
    "        oracion = oracion                         \n",
    "    lista_palabras = oracion.split()             \n",
    "    print(\"- Esta es la lista de palabras resultante: \", lista_palabras) \n",
    "      \n",
    "    gramatica = nltk.data.load(gramatica)          \n",
    "    rd_parser = nltk.RecursiveDescentParser(gramatica) \n",
    "    for arbol in rd_parser.parse(lista_palabras):    \n",
    "        print(\"- Árbol: \", arbol)\n",
    "        arbol.draw()"
   ]
  },
  {
   "cell_type": "code",
   "execution_count": 9,
   "id": "6b472102",
   "metadata": {},
   "outputs": [
    {
     "name": "stdout",
     "output_type": "stream",
     "text": [
      "- Esta es la lista de palabras resultante:  ['estos', 'amigos', 'manipulan', 'jugadores', 'con', 'sus', 'piezas']\n",
      "- Árbol:  (S\n",
      "  (SNS3 (Det estos) (N amigos))\n",
      "  (SV5\n",
      "    (V5 manipulan)\n",
      "    (NOD4 jugadores)\n",
      "    (SPrep (Prep con) (SNPrep (Pos sus) (N1 piezas)))))\n",
      "- Árbol:  (S\n",
      "  (SNS3 (Det estos) (N amigos))\n",
      "  (SV5\n",
      "    (V5 manipulan)\n",
      "    (OD4\n",
      "      (NOD4 jugadores)\n",
      "      (SPrep (Prep con) (SNPrep (Pos sus) (N1 piezas))))))\n"
     ]
    }
   ],
   "source": [
    "oracion1 = 'Estos amigos manipulan jugadores con sus piezas.'                                   \n",
    "gramatica = 'gramatica/gramatica.cfg'                    \n",
    "rd_parser(oracion1, gramatica)                         "
   ]
  },
  {
   "cell_type": "code",
   "execution_count": null,
   "id": "7d556996",
   "metadata": {},
   "outputs": [],
   "source": []
  }
 ],
 "metadata": {
  "kernelspec": {
   "display_name": "Python 3 (ipykernel)",
   "language": "python",
   "name": "python3"
  },
  "language_info": {
   "codemirror_mode": {
    "name": "ipython",
    "version": 3
   },
   "file_extension": ".py",
   "mimetype": "text/x-python",
   "name": "python",
   "nbconvert_exporter": "python",
   "pygments_lexer": "ipython3",
   "version": "3.8.10"
  }
 },
 "nbformat": 4,
 "nbformat_minor": 5
}
